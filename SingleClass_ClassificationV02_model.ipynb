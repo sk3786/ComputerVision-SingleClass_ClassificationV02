{
  "nbformat": 4,
  "nbformat_minor": 0,
  "metadata": {
    "colab": {
      "provenance": []
    },
    "kernelspec": {
      "name": "python3",
      "display_name": "Python 3"
    },
    "language_info": {
      "name": "python"
    }
  },
  "cells": [
    {
      "cell_type": "markdown",
      "source": [
        "#Library:"
      ],
      "metadata": {
        "id": "gi2fnSUA-4pU"
      }
    },
    {
      "cell_type": "code",
      "execution_count": null,
      "metadata": {
        "id": "sjOQAZGb-3-S"
      },
      "outputs": [],
      "source": [
        "from os.path import isfile\n",
        "import tensorflow as tf\n",
        "import matplotlib.pyplot as plt\n",
        "import csv\n",
        "import os\n",
        "import pandas as pd\n",
        "import numpy as np\n",
        "import json\n",
        "from tensorflow.keras.models import Sequential\n",
        "from tensorflow.keras.layers import Dense, InputLayer, Dropout, Flatten, Reshape\n",
        "from tensorflow.keras.layers import Conv2D, MaxPooling2D, GlobalMaxPooling2D, BatchNormalization\n",
        "from tensorflow.keras.regularizers import l2\n",
        "from sklearn.model_selection import train_test_split\n",
        "from keras.utils import to_categorical\n",
        "import keras\n",
        "import random\n",
        "from keras.optimizers import SGD\n",
        "\n",
        "\n"
      ]
    },
    {
      "cell_type": "markdown",
      "source": [
        "# Getting data:"
      ],
      "metadata": {
        "id": "EpYYEVPN_Jwm"
      }
    },
    {
      "cell_type": "code",
      "source": [
        "# For classification\n",
        "data = pd.read_csv('/content/data.csv', names= ['path', 'class'])\n",
        "df = pd.DataFrame(data = data) \n",
        "df.head()\n",
        "\n",
        "\n",
        "\n",
        "# shuffle the df to avoid overfitting situation\n",
        "df = df.sample(frac = 1)\n",
        "\n",
        "\n",
        "# drop 21st row bcz it consist of NaN values\n",
        "df = df.drop(index = 13)\n",
        "# df = df.drop(index = 0)\n",
        "\n",
        "# print(df.shape)  #for verifiction\n",
        "\n",
        "\n",
        "# making the class values to int instead of float\n",
        "df[\"class\"] = df[\"class\"].astype(int)\n",
        "\n",
        "\n",
        "# train and test data\n",
        "train_data = df[:8] \n",
        "test_data = df[9:]\n",
        "\n",
        "# For reference [not needed now]\n",
        "classes = {0:'mouse', 1:'box'}\n",
        "\n",
        "test_data\n"
      ],
      "metadata": {
        "id": "WUp21mEf_IlS",
        "colab": {
          "base_uri": "https://localhost:8080/",
          "height": 174
        },
        "outputId": "298daf75-5bc7-439d-aaee-a5e146082d48"
      },
      "execution_count": null,
      "outputs": [
        {
          "output_type": "execute_result",
          "data": {
            "text/plain": [
              "                      path  class\n",
              "4   /content/Frame(77).jpg      1\n",
              "1   /content/Frame(29).jpg      0\n",
              "11  /content/Frame(98).jpg      1\n",
              "0   /content/Frame(28).jpg      0"
            ],
            "text/html": [
              "\n",
              "  <div id=\"df-b9cb6dec-c47b-475b-a077-2596cbfa3c74\">\n",
              "    <div class=\"colab-df-container\">\n",
              "      <div>\n",
              "<style scoped>\n",
              "    .dataframe tbody tr th:only-of-type {\n",
              "        vertical-align: middle;\n",
              "    }\n",
              "\n",
              "    .dataframe tbody tr th {\n",
              "        vertical-align: top;\n",
              "    }\n",
              "\n",
              "    .dataframe thead th {\n",
              "        text-align: right;\n",
              "    }\n",
              "</style>\n",
              "<table border=\"1\" class=\"dataframe\">\n",
              "  <thead>\n",
              "    <tr style=\"text-align: right;\">\n",
              "      <th></th>\n",
              "      <th>path</th>\n",
              "      <th>class</th>\n",
              "    </tr>\n",
              "  </thead>\n",
              "  <tbody>\n",
              "    <tr>\n",
              "      <th>4</th>\n",
              "      <td>/content/Frame(77).jpg</td>\n",
              "      <td>1</td>\n",
              "    </tr>\n",
              "    <tr>\n",
              "      <th>1</th>\n",
              "      <td>/content/Frame(29).jpg</td>\n",
              "      <td>0</td>\n",
              "    </tr>\n",
              "    <tr>\n",
              "      <th>11</th>\n",
              "      <td>/content/Frame(98).jpg</td>\n",
              "      <td>1</td>\n",
              "    </tr>\n",
              "    <tr>\n",
              "      <th>0</th>\n",
              "      <td>/content/Frame(28).jpg</td>\n",
              "      <td>0</td>\n",
              "    </tr>\n",
              "  </tbody>\n",
              "</table>\n",
              "</div>\n",
              "      <button class=\"colab-df-convert\" onclick=\"convertToInteractive('df-b9cb6dec-c47b-475b-a077-2596cbfa3c74')\"\n",
              "              title=\"Convert this dataframe to an interactive table.\"\n",
              "              style=\"display:none;\">\n",
              "        \n",
              "  <svg xmlns=\"http://www.w3.org/2000/svg\" height=\"24px\"viewBox=\"0 0 24 24\"\n",
              "       width=\"24px\">\n",
              "    <path d=\"M0 0h24v24H0V0z\" fill=\"none\"/>\n",
              "    <path d=\"M18.56 5.44l.94 2.06.94-2.06 2.06-.94-2.06-.94-.94-2.06-.94 2.06-2.06.94zm-11 1L8.5 8.5l.94-2.06 2.06-.94-2.06-.94L8.5 2.5l-.94 2.06-2.06.94zm10 10l.94 2.06.94-2.06 2.06-.94-2.06-.94-.94-2.06-.94 2.06-2.06.94z\"/><path d=\"M17.41 7.96l-1.37-1.37c-.4-.4-.92-.59-1.43-.59-.52 0-1.04.2-1.43.59L10.3 9.45l-7.72 7.72c-.78.78-.78 2.05 0 2.83L4 21.41c.39.39.9.59 1.41.59.51 0 1.02-.2 1.41-.59l7.78-7.78 2.81-2.81c.8-.78.8-2.07 0-2.86zM5.41 20L4 18.59l7.72-7.72 1.47 1.35L5.41 20z\"/>\n",
              "  </svg>\n",
              "      </button>\n",
              "      \n",
              "  <style>\n",
              "    .colab-df-container {\n",
              "      display:flex;\n",
              "      flex-wrap:wrap;\n",
              "      gap: 12px;\n",
              "    }\n",
              "\n",
              "    .colab-df-convert {\n",
              "      background-color: #E8F0FE;\n",
              "      border: none;\n",
              "      border-radius: 50%;\n",
              "      cursor: pointer;\n",
              "      display: none;\n",
              "      fill: #1967D2;\n",
              "      height: 32px;\n",
              "      padding: 0 0 0 0;\n",
              "      width: 32px;\n",
              "    }\n",
              "\n",
              "    .colab-df-convert:hover {\n",
              "      background-color: #E2EBFA;\n",
              "      box-shadow: 0px 1px 2px rgba(60, 64, 67, 0.3), 0px 1px 3px 1px rgba(60, 64, 67, 0.15);\n",
              "      fill: #174EA6;\n",
              "    }\n",
              "\n",
              "    [theme=dark] .colab-df-convert {\n",
              "      background-color: #3B4455;\n",
              "      fill: #D2E3FC;\n",
              "    }\n",
              "\n",
              "    [theme=dark] .colab-df-convert:hover {\n",
              "      background-color: #434B5C;\n",
              "      box-shadow: 0px 1px 3px 1px rgba(0, 0, 0, 0.15);\n",
              "      filter: drop-shadow(0px 1px 2px rgba(0, 0, 0, 0.3));\n",
              "      fill: #FFFFFF;\n",
              "    }\n",
              "  </style>\n",
              "\n",
              "      <script>\n",
              "        const buttonEl =\n",
              "          document.querySelector('#df-b9cb6dec-c47b-475b-a077-2596cbfa3c74 button.colab-df-convert');\n",
              "        buttonEl.style.display =\n",
              "          google.colab.kernel.accessAllowed ? 'block' : 'none';\n",
              "\n",
              "        async function convertToInteractive(key) {\n",
              "          const element = document.querySelector('#df-b9cb6dec-c47b-475b-a077-2596cbfa3c74');\n",
              "          const dataTable =\n",
              "            await google.colab.kernel.invokeFunction('convertToInteractive',\n",
              "                                                     [key], {});\n",
              "          if (!dataTable) return;\n",
              "\n",
              "          const docLinkHtml = 'Like what you see? Visit the ' +\n",
              "            '<a target=\"_blank\" href=https://colab.research.google.com/notebooks/data_table.ipynb>data table notebook</a>'\n",
              "            + ' to learn more about interactive tables.';\n",
              "          element.innerHTML = '';\n",
              "          dataTable['output_type'] = 'display_data';\n",
              "          await google.colab.output.renderOutput(dataTable, element);\n",
              "          const docLink = document.createElement('div');\n",
              "          docLink.innerHTML = docLinkHtml;\n",
              "          element.appendChild(docLink);\n",
              "        }\n",
              "      </script>\n",
              "    </div>\n",
              "  </div>\n",
              "  "
            ]
          },
          "metadata": {},
          "execution_count": 53
        }
      ]
    },
    {
      "cell_type": "markdown",
      "source": [
        "# Model Building:\n",
        "\n",
        "- Using MobileNet architecture. and combining custom top layers."
      ],
      "metadata": {
        "id": "8Uj-chMG_cJ5"
      }
    },
    {
      "cell_type": "code",
      "source": [
        " \n",
        "lrelu = tf.keras.layers.LeakyReLU(alpha=0.1)\n",
        "\n",
        "nb_boxes=1\n",
        "\n",
        "\n",
        "# Build base CNN layer EfficientNet using Keras\n",
        "def build_cnn_layer():\n",
        "  \n",
        "  cnn_layer = tf.keras.applications.MobileNetV3Large(\n",
        "    input_shape = (224,224,3),    #change input size if needed\n",
        "    alpha=1.0,\n",
        "    include_top=False,\n",
        "    weights='imagenet',\n",
        "    include_preprocessing=False )\n",
        "  \n",
        "\n",
        "  return cnn_layer\n",
        "\n",
        "\n",
        "# Build Dense layers\n",
        "def build_dense_layers(input_image):\n",
        "\n",
        "  x = input_image\n",
        "  \n",
        "  # Dense Layer\n",
        "  x = Flatten()(x)\n",
        "  x = Dense(24, activation='sigmoid')(x)\n",
        "\n",
        "  return x\n",
        "\n",
        "\n",
        "\n",
        "# Build classification head layer\n",
        "def build_classifier_head(input_image):\n",
        "\n",
        "  x = input_image \n",
        " \n",
        "  # for multi class very important to give name to head layers[class & regressor], with thier name only we assign loss while compiling.\n",
        "  classifier_head = Dense(2, activation = 'sigmoid', name = 'class')(x)   # have classify only 1 classes\n",
        "\n",
        "  return classifier_head\n",
        "\n",
        "\n",
        "\n",
        "# Build regressor head layer\n",
        "def build_regressor_head(input_image):\n",
        "  \n",
        "  x = input_image\n",
        "  \n",
        "  regressor_head = Dense(4, name = 'regressor' )(x)   # have 4 bounding box location to predict \n",
        "\n",
        "  return regressor_head\n",
        "\n",
        "\n",
        "\n",
        "\n",
        "# Combining all the function\n",
        "\n",
        "def final_model():\n",
        "\n",
        "  image_input = tf.keras.Input(shape=(224,224,3))  # passing input shape necessary in functional API\n",
        "\n",
        "  # [FOR CUSTOM CNN LAYER]\n",
        "  # #adding cnn layer\n",
        "  # base_model = build_cnn_layer(image_input) #build varaible to store the function returned value\n",
        "  # x = base_model    #input the data in base_model using functional API mtd\n",
        "\n",
        "  # [FOR TRANSFER LEARNING LAYER]\n",
        "  #adding cnn layer\n",
        "  base_model = build_cnn_layer()   #build varaible to store the function returned value\n",
        "  x = base_model(image_input)      #input the data in base_model using functional API mtd\n",
        "\n",
        "\n",
        "  # adding dense layer\n",
        "  x = build_dense_layers(x)\n",
        "\n",
        "\n",
        "  #adding classif head\n",
        "  classify_head = build_classifier_head(x)\n",
        "\n",
        "\n",
        "  return  tf.keras.Model(inputs = image_input, outputs = classify_head)\n",
        "\n",
        "\n",
        "\n",
        "\n",
        "\n",
        "# calling the final_model()\n",
        "model = final_model()\n",
        "\n",
        "\n",
        "model.summary()  #checking if everything is okay \n",
        "\n"
      ],
      "metadata": {
        "colab": {
          "base_uri": "https://localhost:8080/"
        },
        "id": "x31rWgrC_cxk",
        "outputId": "122ecbd9-9aee-440d-9035-99b918632e9d"
      },
      "execution_count": null,
      "outputs": [
        {
          "output_type": "stream",
          "name": "stdout",
          "text": [
            "Model: \"model_2\"\n",
            "_________________________________________________________________\n",
            " Layer (type)                Output Shape              Param #   \n",
            "=================================================================\n",
            " input_15 (InputLayer)       [(None, 224, 224, 3)]     0         \n",
            "                                                                 \n",
            " MobilenetV3large (Functiona  (None, 7, 7, 960)        2996352   \n",
            " l)                                                              \n",
            "                                                                 \n",
            " flatten_5 (Flatten)         (None, 47040)             0         \n",
            "                                                                 \n",
            " dense_2 (Dense)             (None, 24)                1128984   \n",
            "                                                                 \n",
            " class (Dense)               (None, 2)                 50        \n",
            "                                                                 \n",
            "=================================================================\n",
            "Total params: 4,125,386\n",
            "Trainable params: 4,100,986\n",
            "Non-trainable params: 24,400\n",
            "_________________________________________________________________\n"
          ]
        }
      ]
    },
    {
      "cell_type": "markdown",
      "source": [
        "# Data Generator(instead of Tf dataset):\n",
        "- Using data generator instead of tensorflow slice dataset.map().batch() as input for model.fit()\n",
        "\n",
        "- Motive for datagenerator is to increase data for trying to improve the accuracy. \n",
        "\n",
        "- Work Progress:\n",
        "1. make Sample function() --> to gather (image_path,label) into list of list.\n",
        "   Eg: [[image_path_1, label_1], [image_path_2,label_2],...]\n",
        "\n",
        "2. make preprocessing function() --> to do any sort of image manipulation(resize, normalize,..etc), converting the path to image also convert label to categorical values and return img,label.\n",
        "\n",
        "3. make generator class(keras.util.Sequential)--> used keras.utils.Sequence.\n",
        "- __init__() to initialse all the x,y,dim,batch_size stuffs.\n",
        "- __len__() returns steps_per_epoch = len(dataset)/batch_size.\n",
        "- __getitem__() returns array of images and lables in keras.util.to_categorical format in batches.\n",
        "\n",
        "\n"
      ],
      "metadata": {
        "id": "pfVFeXSI_lZH"
      }
    },
    {
      "cell_type": "code",
      "source": [
        "\n",
        "\n",
        "# preprocessing function()\n",
        "def img_preprocess(path, label):\n",
        "\n",
        "   # read the file from the path\n",
        "  image = tf.io.read_file(path)\n",
        "\n",
        "  #now to decode the file from previous readfile because it read the file and stored it in Machine language now we have to decode it \n",
        "  image = tf.image.decode_jpeg(image, channels=3)\n",
        "  \n",
        "  # image resize\n",
        "  image = tf.image.resize(image, [224,224]) / 255. # EfficientNet needs this size\n",
        "  \n",
        "  labels = to_categorical(label, num_classes=2)  # num_classes are 2 ->(box,mouse)\n",
        "\n",
        "  return image,labels\n",
        "\n",
        "\n",
        "########################################################################\n",
        "\n",
        "\n",
        "\n",
        "class DataGenerator(keras.utils.Sequence):\n",
        "\n",
        "\n",
        "  # Generates data for Keras\n",
        "  def __init__(self, x, y, batch_size, shuffle=True):\n",
        "     \n",
        "      # Initialization\n",
        "      self.batch_size = batch_size\n",
        "      self.y_data = y\n",
        "      self.x_data = x\n",
        "      self.datalen = len(x)\n",
        "\n",
        "      # self.shuffle = shuffle\n",
        "      # self.on_epoch_end()\n",
        "\n",
        "\n",
        "\n",
        "\n",
        "  def __len__(self):\n",
        "    # Denotes the number of batches per epoch\n",
        "    return int(np.floor(len(self.x_data) / self.batch_size))\n",
        "\n",
        "\n",
        "\n",
        "\n",
        "  def __getitem__(self, index):\n",
        "\n",
        "    # making batch_x\n",
        "    batch_x = self.x_data[index * self.batch_size:(index + 1) * self.batch_size]\n",
        "    \n",
        "\n",
        "    batch_y = self.y_data[index * self.batch_size:(index + 1) * self.batch_size]\n",
        "\n",
        "    batch_data = [] \n",
        "    X = [] \n",
        "    Y = []\n",
        "\n",
        "    # zipping the the batch x & y side by side. \n",
        "    for i in zip(batch_x, batch_y):\n",
        "      batch_data.append(i)\n",
        "    \n",
        "    # for each item in batch_data of size 2\n",
        "    for item in batch_data:\n",
        "      img_path = item[0]\n",
        "      labels = item[1]\n",
        "      \n",
        "      # now bring 'img from path' and 'label as binary matrix' \n",
        "      img, label = img_preprocess(img_path, labels)\n",
        "\n",
        "      X.append(img)\n",
        "      Y.append(label)\n",
        "\n",
        "    \n",
        "    # model need np.array\n",
        "    return np.array(X), np.array(Y)\n",
        "\n",
        "\n"
      ],
      "metadata": {
        "id": "6OVrK6qW_dNB"
      },
      "execution_count": null,
      "outputs": []
    },
    {
      "cell_type": "markdown",
      "source": [
        "# Compile and Train model:"
      ],
      "metadata": {
        "id": "SQLRk_J1AFwf"
      }
    },
    {
      "cell_type": "code",
      "source": [
        "\n",
        "# SGD(learning_rate=0.01)\n",
        "\n",
        "#compile\n",
        "model.compile( optimizer = SGD(learning_rate=0.01),\n",
        "              loss = 'categorical_crossentropy',\n",
        "              metrics = ['accuracy'] )\n",
        "\n",
        "model.summary()\n"
      ],
      "metadata": {
        "colab": {
          "base_uri": "https://localhost:8080/"
        },
        "id": "Xc8xsKhv_dRb",
        "outputId": "317caf88-9d3b-41c3-ec34-a5512af8fac7"
      },
      "execution_count": null,
      "outputs": [
        {
          "output_type": "stream",
          "name": "stdout",
          "text": [
            "Model: \"model_2\"\n",
            "_________________________________________________________________\n",
            " Layer (type)                Output Shape              Param #   \n",
            "=================================================================\n",
            " input_15 (InputLayer)       [(None, 224, 224, 3)]     0         \n",
            "                                                                 \n",
            " MobilenetV3large (Functiona  (None, 7, 7, 960)        2996352   \n",
            " l)                                                              \n",
            "                                                                 \n",
            " flatten_5 (Flatten)         (None, 47040)             0         \n",
            "                                                                 \n",
            " dense_2 (Dense)             (None, 24)                1128984   \n",
            "                                                                 \n",
            " class (Dense)               (None, 2)                 50        \n",
            "                                                                 \n",
            "=================================================================\n",
            "Total params: 4,125,386\n",
            "Trainable params: 4,100,986\n",
            "Non-trainable params: 24,400\n",
            "_________________________________________________________________\n"
          ]
        }
      ]
    },
    {
      "cell_type": "markdown",
      "source": [
        "## Train model:"
      ],
      "metadata": {
        "id": "F1u0uPIl4Fne"
      }
    },
    {
      "cell_type": "code",
      "source": [
        "batch_size = 2\n",
        "x_train = train_data['path']\n",
        "y_train = train_data['class']\n",
        "\n",
        "x_test = test_data['path']\n",
        "y_test = test_data['class']\n",
        "\n",
        "\n",
        "# model training\n",
        "model.fit( x = DataGenerator(x_train, y_train, batch_size),\n",
        "          validation_data = DataGenerator(x_test, y_test, batch_size),\n",
        "          epochs = 20)   \n"
      ],
      "metadata": {
        "colab": {
          "base_uri": "https://localhost:8080/"
        },
        "id": "8UaP8cCuAFM_",
        "outputId": "dab4a3ba-0c64-4edd-8577-1dd5131c512c"
      },
      "execution_count": null,
      "outputs": [
        {
          "output_type": "stream",
          "name": "stdout",
          "text": [
            "Epoch 1/20\n",
            "4/4 [==============================] - 2s 634ms/step - loss: 0.0061 - accuracy: 1.0000 - val_loss: 0.0067 - val_accuracy: 1.0000\n",
            "Epoch 2/20\n",
            "4/4 [==============================] - 2s 625ms/step - loss: 0.0061 - accuracy: 1.0000 - val_loss: 0.0067 - val_accuracy: 1.0000\n",
            "Epoch 3/20\n",
            "4/4 [==============================] - 2s 620ms/step - loss: 0.0061 - accuracy: 1.0000 - val_loss: 0.0066 - val_accuracy: 1.0000\n",
            "Epoch 4/20\n",
            "4/4 [==============================] - 2s 646ms/step - loss: 0.0061 - accuracy: 1.0000 - val_loss: 0.0066 - val_accuracy: 1.0000\n",
            "Epoch 5/20\n",
            "4/4 [==============================] - 2s 580ms/step - loss: 0.0060 - accuracy: 1.0000 - val_loss: 0.0066 - val_accuracy: 1.0000\n",
            "Epoch 6/20\n",
            "4/4 [==============================] - 2s 632ms/step - loss: 0.0060 - accuracy: 1.0000 - val_loss: 0.0066 - val_accuracy: 1.0000\n",
            "Epoch 7/20\n",
            "4/4 [==============================] - 3s 627ms/step - loss: 0.0060 - accuracy: 1.0000 - val_loss: 0.0066 - val_accuracy: 1.0000\n",
            "Epoch 8/20\n",
            "4/4 [==============================] - 2s 406ms/step - loss: 0.0060 - accuracy: 1.0000 - val_loss: 0.0066 - val_accuracy: 1.0000\n",
            "Epoch 9/20\n",
            "4/4 [==============================] - 1s 336ms/step - loss: 0.0060 - accuracy: 1.0000 - val_loss: 0.0066 - val_accuracy: 1.0000\n",
            "Epoch 10/20\n",
            "4/4 [==============================] - 1s 331ms/step - loss: 0.0059 - accuracy: 1.0000 - val_loss: 0.0065 - val_accuracy: 1.0000\n",
            "Epoch 11/20\n",
            "4/4 [==============================] - 1s 337ms/step - loss: 0.0059 - accuracy: 1.0000 - val_loss: 0.0065 - val_accuracy: 1.0000\n",
            "Epoch 12/20\n",
            "4/4 [==============================] - 1s 332ms/step - loss: 0.0059 - accuracy: 1.0000 - val_loss: 0.0065 - val_accuracy: 1.0000\n",
            "Epoch 13/20\n",
            "4/4 [==============================] - 1s 334ms/step - loss: 0.0059 - accuracy: 1.0000 - val_loss: 0.0065 - val_accuracy: 1.0000\n",
            "Epoch 14/20\n",
            "4/4 [==============================] - 1s 338ms/step - loss: 0.0059 - accuracy: 1.0000 - val_loss: 0.0065 - val_accuracy: 1.0000\n",
            "Epoch 15/20\n",
            "4/4 [==============================] - 1s 328ms/step - loss: 0.0058 - accuracy: 1.0000 - val_loss: 0.0065 - val_accuracy: 1.0000\n",
            "Epoch 16/20\n",
            "4/4 [==============================] - 1s 330ms/step - loss: 0.0058 - accuracy: 1.0000 - val_loss: 0.0065 - val_accuracy: 1.0000\n",
            "Epoch 17/20\n",
            "4/4 [==============================] - 1s 332ms/step - loss: 0.0058 - accuracy: 1.0000 - val_loss: 0.0064 - val_accuracy: 1.0000\n",
            "Epoch 18/20\n",
            "4/4 [==============================] - 1s 328ms/step - loss: 0.0058 - accuracy: 1.0000 - val_loss: 0.0064 - val_accuracy: 1.0000\n",
            "Epoch 19/20\n",
            "4/4 [==============================] - 1s 329ms/step - loss: 0.0058 - accuracy: 1.0000 - val_loss: 0.0064 - val_accuracy: 1.0000\n",
            "Epoch 20/20\n",
            "4/4 [==============================] - 1s 326ms/step - loss: 0.0057 - accuracy: 1.0000 - val_loss: 0.0064 - val_accuracy: 1.0000\n"
          ]
        },
        {
          "output_type": "execute_result",
          "data": {
            "text/plain": [
              "<keras.callbacks.History at 0x7f42d5a24a90>"
            ]
          },
          "metadata": {},
          "execution_count": 129
        }
      ]
    },
    {
      "cell_type": "markdown",
      "source": [
        "# Predicition Phase:"
      ],
      "metadata": {
        "id": "5q2uSjLDJ3se"
      }
    },
    {
      "cell_type": "code",
      "source": [
        "# class\n",
        "classes = {0:'mouse', 1:'box'}\n",
        "\n",
        "\n",
        "def predict(path):\n",
        "\n",
        "  #### READ IMAGE ####\n",
        "\n",
        "  # read the file from the path\n",
        "  image = tf.io.read_file(path)\n",
        "\n",
        "  #now to decode the file from previous readfile because it read the file and stored it in Machine language now we have to decode it \n",
        "  image = tf.image.decode_jpeg(image, channels=3)\n",
        "  \n",
        "  # image resize\n",
        "  image = tf.image.resize(image, [224,224]) / 255. # EfficientNet needs this size\n",
        "  \n",
        "  # before sending the image to predict we need to resize it using np.array\n",
        "  image = np.array(image)\n",
        "\n",
        "  # model predict probability\n",
        "  y_prob = model.predict(image.reshape(1,224,224,3))\n",
        "\n",
        "  print(y_prob)\n",
        "\n",
        "  #### PREDICT ####\n",
        "\n",
        "  # cal max prob\n",
        "  max_prob = np.argmax(y_prob) \n",
        "\n",
        "  # predict image\n",
        "  predicted_img_class = classes.get(max_prob)\n",
        "\n",
        "  # for making cross checking easier\n",
        "  plt.imshow(image)\n",
        "  print(predicted_img_class)\n",
        "  print(max_prob)\n",
        "\n",
        "\n",
        "\n"
      ],
      "metadata": {
        "id": "3jtM3VJFAFPW"
      },
      "execution_count": null,
      "outputs": []
    },
    {
      "cell_type": "code",
      "source": [],
      "metadata": {
        "id": "8aT3VIC_SZIR"
      },
      "execution_count": null,
      "outputs": []
    },
    {
      "cell_type": "code",
      "source": [
        "\n",
        "# generating random number\n",
        "num = np.random.randint(0, len(x_test))\n",
        "\n",
        "# convert it into list bcz to access item using [num]\n",
        "x_test = x_test.tolist()\n",
        "\n",
        "# # call function\n",
        "predict(x_test[num])\n",
        "\n",
        "\n",
        "test_img_path1 = \"/content/test_img_01.jpg\"\n",
        "test_img_path2 = \"/content/test_img_02.jpg\"\n",
        "test_img_path3 = \"/content/test_img_03.jpg\"\n",
        "\n",
        "# call function\n",
        "predict(test_img_path2)\n",
        "\n"
      ],
      "metadata": {
        "colab": {
          "base_uri": "https://localhost:8080/",
          "height": 413
        },
        "id": "hjXMTIOgLG4d",
        "outputId": "af352bac-7bf1-4c73-977a-d74e9ecbbd77"
      },
      "execution_count": null,
      "outputs": [
        {
          "output_type": "stream",
          "name": "stdout",
          "text": [
            "1/1 [==============================] - 0s 110ms/step\n",
            "[[0.02096369 0.69320846]]\n",
            "box\n",
            "1\n",
            "1/1 [==============================] - 0s 80ms/step\n",
            "[[0.04316355 0.61717135]]\n",
            "box\n",
            "1\n"
          ]
        },
        {
          "output_type": "display_data",
          "data": {
            "text/plain": [
              "<Figure size 432x288 with 1 Axes>"
            ],
            "image/png": "[encoded data removed]"
          },
          "metadata": {
            "needs_background": "light"
          }
        }
      ]
    },
    {
      "cell_type": "code",
      "source": [
        "import cv2 as cv\n",
        "from google.colab.patches import cv2_imshow\n"
      ],
      "metadata": {
        "id": "vIWRc70GSRuw"
      },
      "execution_count": null,
      "outputs": []
    },
    {
      "cell_type": "code",
      "source": [],
      "metadata": {
        "id": "k1C8BaeLzZ4i"
      },
      "execution_count": null,
      "outputs": []
    }
  ]
}